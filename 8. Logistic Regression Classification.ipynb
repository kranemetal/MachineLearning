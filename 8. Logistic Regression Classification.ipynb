{
 "cells": [
  {
   "cell_type": "markdown",
   "metadata": {},
   "source": [
    "# Machine Learning Notebook 8: Logistic Regression Classification"
   ]
  },
  {
   "cell_type": "markdown",
   "metadata": {},
   "source": [
    "### Compiled by Amit Purswani\n",
    "LinkedIn: https://www.linkedin.com/in/amit-purswani-2a073777/"
   ]
  },
  {
   "cell_type": "markdown",
   "metadata": {},
   "source": [
    "<b>GitHub Repositories</b>\n",
    "1. Data Analysis:\n",
    "https://github.com/kranemetal/Data-Analysis-Projects\n",
    "\n",
    "2. Machine Learning:\n",
    "https://github.com/kranemetal/MachineLearning"
   ]
  },
  {
   "cell_type": "markdown",
   "metadata": {},
   "source": [
    "### Logistic Regression Notes:\n",
    "- It is a classification algorithm, it helps to predict which class the dependent variable belongs to, the possible outcome is binary i.e. yes/no, 1/0, true/false.\n",
    "- The outcome is predicted by calculating the probabilities.\n",
    "- Sigmoid function is used to calculate the probability.\n",
    "- Sigmoid is a mathematical function that takes any real number and maps it to a probability between 1 and 0.\n",
    "- For the output probabilities, we can set a threshold as below: <br>\n",
    "probability < 0.5 means class A <br>\n",
    "probability >= 0.5 means class B\n",
    "- Thus we can classify the dependent variable in one of the two classes based on the probability calculated using independent variable(s)."
   ]
  },
  {
   "attachments": {
    "image.png": {
     "image/png": "[encoded data removed]"
    }
   },
   "cell_type": "markdown",
   "metadata": {},
   "source": [
    "#### Sigmoid Function curve\n",
    "\n",
    "![image.png](attachment:image.png)\n",
    "\n",
    "Image Credit: Sagar Sharma (towardsdatascience)"
   ]
  },
  {
   "cell_type": "markdown",
   "metadata": {},
   "source": [
    "### Importing libraries"
   ]
  },
  {
   "cell_type": "code",
   "execution_count": 7,
   "metadata": {},
   "outputs": [],
   "source": [
    "import pandas as pd\n",
    "import numpy as np\n",
    "import matplotlib.pyplot as plt"
   ]
  },
  {
   "cell_type": "markdown",
   "metadata": {},
   "source": [
    "### Import dataset"
   ]
  },
  {
   "cell_type": "code",
   "execution_count": 8,
   "metadata": {},
   "outputs": [],
   "source": [
    "df = pd.read_csv('C:\\\\Users\\krane\\Desktop\\datasets\\Social_Network_Ads.csv')"
   ]
  },
  {
   "cell_type": "markdown",
   "metadata": {},
   "source": [
    "### Basic checks on dataset"
   ]
  },
  {
   "cell_type": "code",
   "execution_count": 9,
   "metadata": {},
   "outputs": [
    {
     "data": {
      "text/plain": [
       "(400, 3)"
      ]
     },
     "execution_count": 9,
     "metadata": {},
     "output_type": "execute_result"
    }
   ],
   "source": [
    "df.shape"
   ]
  },
  {
   "cell_type": "code",
   "execution_count": 10,
   "metadata": {},
   "outputs": [
    {
     "data": {
      "text/html": [
       "<div>\n",
       "<style scoped>\n",
       "    .dataframe tbody tr th:only-of-type {\n",
       "        vertical-align: middle;\n",
       "    }\n",
       "\n",
       "    .dataframe tbody tr th {\n",
       "        vertical-align: top;\n",
       "    }\n",
       "\n",
       "    .dataframe thead th {\n",
       "        text-align: right;\n",
       "    }\n",
       "</style>\n",
       "<table border=\"1\" class=\"dataframe\">\n",
       "  <thead>\n",
       "    <tr style=\"text-align: right;\">\n",
       "      <th></th>\n",
       "      <th>Age</th>\n",
       "      <th>EstimatedSalary</th>\n",
       "      <th>Purchased</th>\n",
       "    </tr>\n",
       "  </thead>\n",
       "  <tbody>\n",
       "    <tr>\n",
       "      <th>0</th>\n",
       "      <td>19</td>\n",
       "      <td>19000</td>\n",
       "      <td>0</td>\n",
       "    </tr>\n",
       "    <tr>\n",
       "      <th>1</th>\n",
       "      <td>35</td>\n",
       "      <td>20000</td>\n",
       "      <td>0</td>\n",
       "    </tr>\n",
       "    <tr>\n",
       "      <th>2</th>\n",
       "      <td>26</td>\n",
       "      <td>43000</td>\n",
       "      <td>0</td>\n",
       "    </tr>\n",
       "    <tr>\n",
       "      <th>3</th>\n",
       "      <td>27</td>\n",
       "      <td>57000</td>\n",
       "      <td>0</td>\n",
       "    </tr>\n",
       "    <tr>\n",
       "      <th>4</th>\n",
       "      <td>19</td>\n",
       "      <td>76000</td>\n",
       "      <td>0</td>\n",
       "    </tr>\n",
       "  </tbody>\n",
       "</table>\n",
       "</div>"
      ],
      "text/plain": [
       "   Age  EstimatedSalary  Purchased\n",
       "0   19            19000          0\n",
       "1   35            20000          0\n",
       "2   26            43000          0\n",
       "3   27            57000          0\n",
       "4   19            76000          0"
      ]
     },
     "execution_count": 10,
     "metadata": {},
     "output_type": "execute_result"
    }
   ],
   "source": [
    "df.head()"
   ]
  },
  {
   "cell_type": "code",
   "execution_count": 11,
   "metadata": {},
   "outputs": [
    {
     "data": {
      "text/plain": [
       "Age                0\n",
       "EstimatedSalary    0\n",
       "Purchased          0\n",
       "dtype: int64"
      ]
     },
     "execution_count": 11,
     "metadata": {},
     "output_type": "execute_result"
    }
   ],
   "source": [
    "df.isnull().sum()"
   ]
  },
  {
   "cell_type": "code",
   "execution_count": 12,
   "metadata": {},
   "outputs": [
    {
     "name": "stdout",
     "output_type": "stream",
     "text": [
      "<class 'pandas.core.frame.DataFrame'>\n",
      "RangeIndex: 400 entries, 0 to 399\n",
      "Data columns (total 3 columns):\n",
      " #   Column           Non-Null Count  Dtype\n",
      "---  ------           --------------  -----\n",
      " 0   Age              400 non-null    int64\n",
      " 1   EstimatedSalary  400 non-null    int64\n",
      " 2   Purchased        400 non-null    int64\n",
      "dtypes: int64(3)\n",
      "memory usage: 9.5 KB\n"
     ]
    }
   ],
   "source": [
    "df.info()"
   ]
  },
  {
   "cell_type": "code",
   "execution_count": 13,
   "metadata": {},
   "outputs": [
    {
     "data": {
      "text/html": [
       "<div>\n",
       "<style scoped>\n",
       "    .dataframe tbody tr th:only-of-type {\n",
       "        vertical-align: middle;\n",
       "    }\n",
       "\n",
       "    .dataframe tbody tr th {\n",
       "        vertical-align: top;\n",
       "    }\n",
       "\n",
       "    .dataframe thead th {\n",
       "        text-align: right;\n",
       "    }\n",
       "</style>\n",
       "<table border=\"1\" class=\"dataframe\">\n",
       "  <thead>\n",
       "    <tr style=\"text-align: right;\">\n",
       "      <th></th>\n",
       "      <th>Age</th>\n",
       "      <th>EstimatedSalary</th>\n",
       "      <th>Purchased</th>\n",
       "    </tr>\n",
       "  </thead>\n",
       "  <tbody>\n",
       "    <tr>\n",
       "      <th>count</th>\n",
       "      <td>400.000000</td>\n",
       "      <td>400.000000</td>\n",
       "      <td>400.000000</td>\n",
       "    </tr>\n",
       "    <tr>\n",
       "      <th>mean</th>\n",
       "      <td>37.655000</td>\n",
       "      <td>69742.500000</td>\n",
       "      <td>0.357500</td>\n",
       "    </tr>\n",
       "    <tr>\n",
       "      <th>std</th>\n",
       "      <td>10.482877</td>\n",
       "      <td>34096.960282</td>\n",
       "      <td>0.479864</td>\n",
       "    </tr>\n",
       "    <tr>\n",
       "      <th>min</th>\n",
       "      <td>18.000000</td>\n",
       "      <td>15000.000000</td>\n",
       "      <td>0.000000</td>\n",
       "    </tr>\n",
       "    <tr>\n",
       "      <th>25%</th>\n",
       "      <td>29.750000</td>\n",
       "      <td>43000.000000</td>\n",
       "      <td>0.000000</td>\n",
       "    </tr>\n",
       "    <tr>\n",
       "      <th>50%</th>\n",
       "      <td>37.000000</td>\n",
       "      <td>70000.000000</td>\n",
       "      <td>0.000000</td>\n",
       "    </tr>\n",
       "    <tr>\n",
       "      <th>75%</th>\n",
       "      <td>46.000000</td>\n",
       "      <td>88000.000000</td>\n",
       "      <td>1.000000</td>\n",
       "    </tr>\n",
       "    <tr>\n",
       "      <th>max</th>\n",
       "      <td>60.000000</td>\n",
       "      <td>150000.000000</td>\n",
       "      <td>1.000000</td>\n",
       "    </tr>\n",
       "  </tbody>\n",
       "</table>\n",
       "</div>"
      ],
      "text/plain": [
       "              Age  EstimatedSalary   Purchased\n",
       "count  400.000000       400.000000  400.000000\n",
       "mean    37.655000     69742.500000    0.357500\n",
       "std     10.482877     34096.960282    0.479864\n",
       "min     18.000000     15000.000000    0.000000\n",
       "25%     29.750000     43000.000000    0.000000\n",
       "50%     37.000000     70000.000000    0.000000\n",
       "75%     46.000000     88000.000000    1.000000\n",
       "max     60.000000    150000.000000    1.000000"
      ]
     },
     "execution_count": 13,
     "metadata": {},
     "output_type": "execute_result"
    }
   ],
   "source": [
    "df.describe()"
   ]
  },
  {
   "cell_type": "markdown",
   "metadata": {},
   "source": [
    "### Splitting independent variable X and dependent variable Y"
   ]
  },
  {
   "cell_type": "code",
   "execution_count": 14,
   "metadata": {},
   "outputs": [],
   "source": [
    "x = df.iloc[:,:-1].values\n",
    "y = df.iloc[:,-1].values"
   ]
  },
  {
   "cell_type": "markdown",
   "metadata": {},
   "source": [
    "### Splitting the train and test datasets"
   ]
  },
  {
   "cell_type": "code",
   "execution_count": 15,
   "metadata": {},
   "outputs": [],
   "source": [
    "from sklearn.model_selection import train_test_split\n",
    "x_train, x_test, y_train, y_test = train_test_split(x, y, test_size= 0.3, random_state=0)"
   ]
  },
  {
   "cell_type": "markdown",
   "metadata": {},
   "source": [
    "### Feature Scaling"
   ]
  },
  {
   "cell_type": "code",
   "execution_count": 17,
   "metadata": {},
   "outputs": [],
   "source": [
    "from sklearn.preprocessing import StandardScaler\n",
    "sc = StandardScaler()\n",
    "x_train = sc.fit_transform(x_train)\n",
    "x_test = sc.transform(x_test)"
   ]
  },
  {
   "cell_type": "code",
   "execution_count": 19,
   "metadata": {
    "scrolled": false
   },
   "outputs": [
    {
     "name": "stdout",
     "output_type": "stream",
     "text": [
      "[[-1.1631724  -1.5849703 ]\n",
      " [ 2.17018137  0.93098672]\n",
      " [ 0.0133054   1.22017719]\n",
      " [ 0.20938504  1.07558195]\n",
      " [ 0.40546467 -0.48604654]\n",
      " [-0.28081405 -0.31253226]\n",
      " [ 0.99370357 -0.8330751 ]\n",
      " [ 0.99370357  1.8563962 ]\n",
      " [ 0.0133054   1.24909623]\n",
      " [-0.86905295  2.26126285]\n",
      " [-1.1631724  -1.5849703 ]\n",
      " [ 2.17018137 -0.80415605]\n",
      " [-1.35925203 -1.46929411]\n",
      " [ 0.40546467  2.2901819 ]\n",
      " [ 0.79762394  0.75747245]\n",
      " [-0.96709276 -0.31253226]\n",
      " [ 0.11134522  0.75747245]\n",
      " [-0.96709276  0.55503912]\n",
      " [ 0.30742485  0.06341534]\n",
      " [ 0.69958412 -1.26686079]\n",
      " [-0.47689368 -0.0233418 ]\n",
      " [-1.7514113   0.3526058 ]\n",
      " [-0.67297331  0.12125343]\n",
      " [ 0.40546467  0.29476771]\n",
      " [-0.28081405  0.06341534]\n",
      " [-0.47689368  2.2901819 ]\n",
      " [ 0.20938504  0.03449629]\n",
      " [ 1.28782302  2.20342476]\n",
      " [ 0.79762394  0.26584866]\n",
      " [-0.28081405  0.15017248]\n",
      " [ 0.0133054  -0.54388463]\n",
      " [-0.18277423  0.15017248]\n",
      " [-0.08473441  0.23692961]\n",
      " [ 0.0133054  -0.25469417]\n",
      " [ 2.17018137  1.104501  ]\n",
      " [-1.7514113   0.3526058 ]\n",
      " [ 1.87606192  0.12125343]\n",
      " [ 0.40546467 -0.13901799]\n",
      " [-1.1631724   0.29476771]\n",
      " [ 0.79762394  1.36477242]\n",
      " [-0.28081405 -0.25469417]\n",
      " [-1.65337148 -0.05226085]\n",
      " [-0.96709276 -0.74631796]\n",
      " [ 0.30742485  0.49720103]\n",
      " [-0.08473441 -1.06442747]\n",
      " [-1.06513258  0.58395817]\n",
      " [ 0.11134522 -0.80415605]\n",
      " [-0.96709276  1.53828669]\n",
      " [-0.67297331  1.39369146]\n",
      " [-1.26121221  0.49720103]\n",
      " [-0.28081405  0.03449629]\n",
      " [-0.08473441  0.00557724]\n",
      " [-0.28081405 -0.89091319]\n",
      " [ 0.89566375 -1.35361793]\n",
      " [-0.28081405  2.2323438 ]\n",
      " [ 0.99370357  1.97207239]\n",
      " [-1.1631724   0.46828198]\n",
      " [-1.26121221  0.26584866]\n",
      " [ 1.38586284  1.97207239]\n",
      " [ 1.28782302 -1.35361793]\n",
      " [-0.28081405 -0.28361322]\n",
      " [-0.47689368  1.24909623]\n",
      " [-0.77101313  1.07558195]\n",
      " [ 0.99370357 -1.06442747]\n",
      " [ 0.30742485  0.29476771]\n",
      " [ 0.99370357  0.75747245]\n",
      " [-0.67297331 -1.49821316]\n",
      " [-0.67297331  0.03449629]\n",
      " [ 0.50350449  1.71180097]\n",
      " [ 2.07214155  0.17909152]\n",
      " [-1.94749093 -0.74631796]\n",
      " [-0.18277423  1.39369146]\n",
      " [ 0.40546467  0.58395817]\n",
      " [ 0.89566375 -1.1511846 ]\n",
      " [-1.1631724  -0.775237  ]\n",
      " [ 0.20938504  0.23692961]\n",
      " [ 0.79762394 -0.31253226]\n",
      " [ 2.07214155 -0.80415605]\n",
      " [ 0.79762394  0.12125343]\n",
      " [-0.28081405  0.61287722]\n",
      " [-0.96709276 -0.31253226]\n",
      " [ 0.20938504 -0.37037036]\n",
      " [ 2.07214155  2.11666762]\n",
      " [ 1.87606192 -1.26686079]\n",
      " [ 1.38586284 -0.91983223]\n",
      " [ 0.89566375  1.24909623]\n",
      " [ 1.48390265  2.11666762]\n",
      " [-0.28081405 -1.23794174]\n",
      " [ 1.97410174  0.90206768]\n",
      " [ 0.69958412 -0.71739891]\n",
      " [-1.45729185  0.3526058 ]\n",
      " [ 0.79762394 -1.35361793]\n",
      " [ 0.40546467 -0.13901799]\n",
      " [-0.96709276  0.41044389]\n",
      " [ 0.0133054  -0.31253226]\n",
      " [-1.1631724   0.41044389]\n",
      " [-0.86905295 -1.2090227 ]\n",
      " [-0.08473441  0.03449629]\n",
      " [-1.55533166 -0.42820845]\n",
      " [ 0.99370357 -1.00658937]\n",
      " [ 1.09174339 -1.2090227 ]\n",
      " [ 0.0133054  -0.13901799]\n",
      " [-1.06513258 -1.52713221]\n",
      " [ 0.79762394 -1.2090227 ]\n",
      " [ 0.99370357  2.05882953]\n",
      " [-1.1631724  -1.52713221]\n",
      " [-0.28081405  0.78639149]\n",
      " [ 0.11134522 -0.31253226]\n",
      " [-1.35925203 -1.23794174]\n",
      " [-0.5749335  -1.49821316]\n",
      " [ 0.79762394  0.52612008]\n",
      " [-0.28081405 -0.34145131]\n",
      " [ 1.7780221  -0.28361322]\n",
      " [ 0.89566375 -1.03550842]\n",
      " [ 0.20938504  0.06341534]\n",
      " [-0.5749335   0.87314863]\n",
      " [-1.84945111 -1.41145602]\n",
      " [-1.26121221  0.58395817]\n",
      " [-0.28081405  0.52612008]\n",
      " [-0.96709276 -1.09334651]\n",
      " [ 1.1897832  -1.44037507]\n",
      " [ 0.20938504 -0.31253226]\n",
      " [ 1.1897832  -0.74631796]\n",
      " [-0.28081405  0.06341534]\n",
      " [ 0.20938504  2.08774857]\n",
      " [ 0.79762394 -1.09334651]\n",
      " [ 0.11134522  0.03449629]\n",
      " [-1.7514113   0.12125343]\n",
      " [-0.86905295  0.15017248]\n",
      " [-0.67297331  0.17909152]\n",
      " [ 0.89566375 -1.29577984]\n",
      " [ 0.20938504 -0.25469417]\n",
      " [-0.37885386  1.22017719]\n",
      " [ 0.0133054   0.29476771]\n",
      " [ 0.40546467  0.15017248]\n",
      " [ 0.89566375 -0.65956082]\n",
      " [ 0.11134522  0.15017248]\n",
      " [-1.84945111 -1.29577984]\n",
      " [-0.08473441  0.29476771]\n",
      " [-0.18277423 -0.28361322]\n",
      " [ 0.30742485 -0.51496559]\n",
      " [-0.18277423  1.59612479]\n",
      " [ 0.99370357 -1.18010365]\n",
      " [-0.18277423  1.62504383]\n",
      " [ 1.28782302  1.8563962 ]\n",
      " [-1.06513258 -0.37037036]\n",
      " [ 0.0133054   0.03449629]\n",
      " [ 0.11134522 -0.25469417]\n",
      " [-1.55533166 -1.23794174]\n",
      " [-0.47689368 -0.28361322]\n",
      " [ 0.99370357  0.12125343]\n",
      " [ 1.97410174 -1.35361793]\n",
      " [ 1.48390265  0.06341534]\n",
      " [-0.5749335   1.36477242]\n",
      " [ 1.58194247  0.00557724]\n",
      " [-0.77101313  0.29476771]\n",
      " [ 1.97410174  0.7285534 ]\n",
      " [-1.1631724  -0.51496559]\n",
      " [ 0.69958412  0.26584866]\n",
      " [-1.35925203 -0.42820845]\n",
      " [ 0.20938504  0.15017248]\n",
      " [-0.47689368 -1.2090227 ]\n",
      " [ 0.6015443   2.00099143]\n",
      " [-1.55533166 -1.49821316]\n",
      " [-0.47689368 -0.54388463]\n",
      " [ 0.50350449  1.82747716]\n",
      " [-1.35925203 -1.09334651]\n",
      " [ 0.79762394 -1.38253697]\n",
      " [-0.28081405 -0.42820845]\n",
      " [ 1.58194247  0.98882482]\n",
      " [ 0.99370357  1.42261051]\n",
      " [-0.28081405 -0.48604654]\n",
      " [-0.08473441  2.14558666]\n",
      " [-1.45729185 -0.11009894]\n",
      " [-0.08473441  1.94315334]\n",
      " [-0.67297331 -0.34145131]\n",
      " [-0.47689368 -0.8330751 ]\n",
      " [ 0.69958412 -1.38253697]\n",
      " [-0.77101313 -1.5849703 ]\n",
      " [-1.84945111 -1.46929411]\n",
      " [ 1.09174339  0.12125343]\n",
      " [ 0.11134522  1.50936765]\n",
      " [-0.28081405  0.09233438]\n",
      " [ 0.11134522  0.03449629]\n",
      " [-1.35925203 -1.35361793]\n",
      " [ 0.30742485  0.06341534]\n",
      " [-0.86905295  0.38152485]\n",
      " [ 1.58194247 -1.26686079]\n",
      " [-0.28081405 -0.74631796]\n",
      " [-0.08473441  0.15017248]\n",
      " [-0.86905295 -0.65956082]\n",
      " [-0.67297331 -0.05226085]\n",
      " [ 0.40546467 -0.45712749]\n",
      " [-0.77101313  1.88531525]\n",
      " [ 1.38586284  1.27801528]\n",
      " [ 1.1897832  -0.97767033]\n",
      " [ 1.7780221   1.82747716]\n",
      " [-0.86905295 -0.25469417]\n",
      " [-0.77101313  0.55503912]\n",
      " [-1.1631724  -1.55605125]\n",
      " [-0.47689368 -1.12226556]\n",
      " [ 0.30742485  0.06341534]\n",
      " [-0.18277423 -1.06442747]\n",
      " [ 1.67998229  1.59612479]\n",
      " [ 0.99370357  1.76963906]\n",
      " [ 0.30742485  0.03449629]\n",
      " [-0.77101313 -0.22577513]\n",
      " [-0.08473441  0.06341534]\n",
      " [ 0.30742485 -0.19685608]\n",
      " [ 1.97410174 -0.65956082]\n",
      " [-0.77101313  1.33585337]\n",
      " [-1.7514113  -0.60172273]\n",
      " [-0.08473441  0.12125343]\n",
      " [ 0.30742485 -0.31253226]\n",
      " [ 1.09174339  0.55503912]\n",
      " [-0.96709276  0.26584866]\n",
      " [ 1.48390265  0.3526058 ]\n",
      " [ 0.20938504 -0.37037036]\n",
      " [ 2.17018137 -1.03550842]\n",
      " [-0.28081405  1.104501  ]\n",
      " [-1.65337148  0.06341534]\n",
      " [ 0.0133054   0.03449629]\n",
      " [ 0.11134522  1.04666291]\n",
      " [-0.08473441 -0.37037036]\n",
      " [-1.1631724   0.06341534]\n",
      " [-0.28081405 -1.35361793]\n",
      " [ 1.58194247  1.104501  ]\n",
      " [-0.77101313 -1.52713221]\n",
      " [ 0.11134522  1.8563962 ]\n",
      " [-0.86905295 -0.775237  ]\n",
      " [-0.47689368 -0.775237  ]\n",
      " [-0.28081405 -0.91983223]\n",
      " [ 0.30742485 -0.71739891]\n",
      " [ 0.30742485  0.06341534]\n",
      " [ 0.11134522  1.8563962 ]\n",
      " [-1.06513258  1.94315334]\n",
      " [-1.65337148 -1.55605125]\n",
      " [-1.1631724  -1.09334651]\n",
      " [-0.67297331 -0.11009894]\n",
      " [ 0.11134522  0.09233438]\n",
      " [ 0.30742485  0.26584866]\n",
      " [ 0.89566375 -0.57280368]\n",
      " [ 0.30742485 -1.1511846 ]\n",
      " [-0.08473441  0.67071531]\n",
      " [ 2.17018137 -0.68847986]\n",
      " [-1.26121221 -1.38253697]\n",
      " [-0.96709276 -0.94875128]\n",
      " [ 0.0133054  -0.42820845]\n",
      " [-0.18277423 -0.45712749]\n",
      " [-1.7514113  -0.97767033]\n",
      " [ 1.7780221   0.98882482]\n",
      " [ 0.20938504 -0.37037036]\n",
      " [ 0.40546467  1.104501  ]\n",
      " [-1.7514113  -1.35361793]\n",
      " [ 0.20938504 -0.13901799]\n",
      " [ 0.89566375 -1.44037507]\n",
      " [-1.94749093  0.46828198]\n",
      " [-0.28081405  0.26584866]\n",
      " [ 1.87606192 -1.06442747]\n",
      " [-0.37885386  0.06341534]\n",
      " [ 1.09174339 -0.89091319]\n",
      " [-1.06513258 -1.12226556]\n",
      " [-1.84945111  0.00557724]\n",
      " [ 0.11134522  0.26584866]\n",
      " [-1.1631724   0.32368675]\n",
      " [-1.26121221  0.29476771]\n",
      " [-0.96709276  0.43936294]\n",
      " [ 1.67998229 -0.89091319]\n",
      " [ 1.1897832   0.52612008]\n",
      " [ 1.09174339  0.52612008]\n",
      " [ 1.38586284  2.31910094]\n",
      " [-0.28081405 -0.13901799]\n",
      " [ 0.40546467 -0.45712749]\n",
      " [-0.37885386 -0.775237  ]\n",
      " [-0.08473441 -0.51496559]\n",
      " [ 0.99370357 -1.1511846 ]\n",
      " [-0.86905295 -0.775237  ]\n",
      " [-0.18277423 -0.51496559]\n",
      " [-1.06513258 -0.45712749]\n",
      " [-1.1631724   1.39369146]]\n"
     ]
    }
   ],
   "source": [
    "print(x_train)"
   ]
  },
  {
   "cell_type": "code",
   "execution_count": 20,
   "metadata": {
    "scrolled": false
   },
   "outputs": [
    {
     "name": "stdout",
     "output_type": "stream",
     "text": [
      "[[-0.77101313  0.49720103]\n",
      " [ 0.0133054  -0.57280368]\n",
      " [-0.28081405  0.15017248]\n",
      " [-0.77101313  0.26584866]\n",
      " [-0.28081405 -0.57280368]\n",
      " [-1.06513258 -1.44037507]\n",
      " [-0.67297331 -1.5849703 ]\n",
      " [-0.18277423  2.14558666]\n",
      " [-1.94749093 -0.05226085]\n",
      " [ 0.89566375 -0.775237  ]\n",
      " [-0.77101313 -0.60172273]\n",
      " [-0.96709276 -0.42820845]\n",
      " [-0.08473441 -0.42820845]\n",
      " [ 0.11134522  0.20801057]\n",
      " [-1.7514113   0.46828198]\n",
      " [-0.5749335   1.36477242]\n",
      " [-0.08473441  0.20801057]\n",
      " [-1.84945111  0.43936294]\n",
      " [ 1.67998229  1.74072002]\n",
      " [-0.28081405 -1.38253697]\n",
      " [-0.28081405 -0.65956082]\n",
      " [ 0.89566375  2.14558666]\n",
      " [ 0.30742485 -0.54388463]\n",
      " [ 0.89566375  1.01774386]\n",
      " [-1.45729185 -1.2090227 ]\n",
      " [ 1.09174339  2.05882953]\n",
      " [-0.96709276  0.49720103]\n",
      " [-0.86905295  0.29476771]\n",
      " [-0.08473441 -0.22577513]\n",
      " [-0.5749335   0.46828198]\n",
      " [-1.65337148  0.52612008]\n",
      " [-0.08473441  0.26584866]\n",
      " [ 1.87606192 -0.28361322]\n",
      " [-0.08473441 -0.48604654]\n",
      " [-1.35925203 -0.34145131]\n",
      " [-1.94749093 -0.51496559]\n",
      " [-1.55533166  0.32368675]\n",
      " [-0.37885386 -0.775237  ]\n",
      " [-0.67297331 -1.03550842]\n",
      " [ 1.09174339 -0.97767033]\n",
      " [-1.06513258  0.52612008]\n",
      " [ 0.30742485 -0.51496559]\n",
      " [-1.06513258  0.41044389]\n",
      " [-0.28081405 -1.44037507]\n",
      " [ 0.50350449  1.22017719]\n",
      " [-1.06513258 -0.34145131]\n",
      " [-0.08473441  0.29476771]\n",
      " [ 1.38586284  0.58395817]\n",
      " [-1.1631724  -1.1511846 ]\n",
      " [ 1.09174339  0.46828198]\n",
      " [ 1.87606192  1.50936765]\n",
      " [-0.37885386 -1.29577984]\n",
      " [-0.28081405 -0.37037036]\n",
      " [-0.37885386  1.30693432]\n",
      " [ 2.07214155  0.52612008]\n",
      " [ 0.69958412 -1.09334651]\n",
      " [-0.86905295  0.38152485]\n",
      " [-1.1631724   0.29476771]\n",
      " [ 1.09174339 -1.2090227 ]\n",
      " [-1.45729185 -1.44037507]\n",
      " [-0.5749335  -1.49821316]\n",
      " [ 2.17018137 -0.80415605]\n",
      " [-1.84945111  0.17909152]\n",
      " [-0.18277423  0.84422958]\n",
      " [-1.84945111 -1.26686079]\n",
      " [ 2.17018137  0.38152485]\n",
      " [-1.35925203  0.55503912]\n",
      " [-1.06513258 -0.34145131]\n",
      " [ 0.20938504 -0.65956082]\n",
      " [ 0.40546467  0.00557724]\n",
      " [-0.5749335   2.31910094]\n",
      " [-0.28081405  0.20801057]\n",
      " [-1.55533166 -0.19685608]\n",
      " [ 0.69958412 -1.38253697]\n",
      " [-1.06513258  0.55503912]\n",
      " [-1.94749093  0.3526058 ]\n",
      " [ 0.40546467  0.26584866]\n",
      " [ 0.20938504 -0.28361322]\n",
      " [ 1.48390265 -1.03550842]\n",
      " [ 0.89566375  1.07558195]\n",
      " [ 1.97410174  2.14558666]\n",
      " [ 2.07214155  0.38152485]\n",
      " [-1.35925203 -0.42820845]\n",
      " [-1.1631724  -1.00658937]\n",
      " [ 1.97410174 -0.91983223]\n",
      " [ 0.40546467  0.29476771]\n",
      " [ 0.20938504  0.15017248]\n",
      " [ 2.07214155  1.74072002]\n",
      " [ 0.79762394 -0.8330751 ]\n",
      " [ 0.30742485 -0.28361322]\n",
      " [ 0.40546467 -0.16793703]\n",
      " [-0.08473441  2.20342476]\n",
      " [-1.45729185 -0.63064177]\n",
      " [-1.26121221 -1.06442747]\n",
      " [-1.35925203  0.41044389]\n",
      " [-1.06513258  0.75747245]\n",
      " [-1.45729185 -0.19685608]\n",
      " [ 0.99370357 -1.06442747]\n",
      " [ 0.99370357  0.58395817]\n",
      " [ 0.40546467  0.98882482]\n",
      " [ 0.6015443  -0.89091319]\n",
      " [-0.5749335   1.45152956]\n",
      " [ 0.0133054  -0.57280368]\n",
      " [-0.5749335   1.88531525]\n",
      " [ 1.38586284 -1.41145602]\n",
      " [ 1.48390265  0.98882482]\n",
      " [ 0.11134522 -0.80415605]\n",
      " [ 0.0133054  -0.25469417]\n",
      " [-0.18277423 -0.57280368]\n",
      " [-0.18277423 -0.19685608]\n",
      " [-0.28081405 -1.29577984]\n",
      " [-0.28081405 -0.57280368]\n",
      " [ 0.40546467  0.09233438]\n",
      " [ 0.89566375 -0.60172273]\n",
      " [ 2.07214155 -1.18010365]\n",
      " [ 1.09174339 -0.13901799]\n",
      " [ 0.69958412  1.76963906]\n",
      " [-0.67297331  0.55503912]\n",
      " [ 0.79762394  0.3526058 ]\n",
      " [ 0.89566375 -0.54388463]]\n"
     ]
    }
   ],
   "source": [
    "print(x_test)"
   ]
  },
  {
   "cell_type": "markdown",
   "metadata": {},
   "source": [
    "### Train Logistic Regression model on train set"
   ]
  },
  {
   "cell_type": "code",
   "execution_count": 21,
   "metadata": {},
   "outputs": [
    {
     "data": {
      "text/plain": [
       "LogisticRegression(random_state=0)"
      ]
     },
     "execution_count": 21,
     "metadata": {},
     "output_type": "execute_result"
    }
   ],
   "source": [
    "from sklearn.linear_model import LogisticRegression\n",
    "classifier = LogisticRegression(random_state=0)\n",
    "classifier.fit(x_train, y_train)"
   ]
  },
  {
   "cell_type": "markdown",
   "metadata": {},
   "source": [
    "### Predicting a new result\n",
    "For a customer aged 37 years and earning USD 87k"
   ]
  },
  {
   "cell_type": "code",
   "execution_count": 23,
   "metadata": {},
   "outputs": [
    {
     "name": "stdout",
     "output_type": "stream",
     "text": [
      "[0]\n"
     ]
    }
   ],
   "source": [
    "print(classifier.predict(sc.transform([[37, 87000]]))) #predict method expects input in 2D array"
   ]
  },
  {
   "cell_type": "markdown",
   "metadata": {},
   "source": [
    "### Predict test set results"
   ]
  },
  {
   "cell_type": "code",
   "execution_count": 25,
   "metadata": {
    "scrolled": false
   },
   "outputs": [
    {
     "data": {
      "text/plain": [
       "array([[0, 0],\n",
       "       [0, 0],\n",
       "       [0, 0],\n",
       "       [0, 0],\n",
       "       [0, 0],\n",
       "       [0, 0],\n",
       "       [0, 0],\n",
       "       [1, 1],\n",
       "       [0, 0],\n",
       "       [1, 0],\n",
       "       [0, 0],\n",
       "       [0, 0],\n",
       "       [0, 0],\n",
       "       [0, 0],\n",
       "       [0, 0],\n",
       "       [0, 0],\n",
       "       [0, 0],\n",
       "       [0, 0],\n",
       "       [1, 1],\n",
       "       [0, 0],\n",
       "       [0, 0],\n",
       "       [1, 1],\n",
       "       [0, 0],\n",
       "       [1, 1],\n",
       "       [0, 0],\n",
       "       [1, 1],\n",
       "       [0, 0],\n",
       "       [0, 0],\n",
       "       [0, 0],\n",
       "       [0, 0],\n",
       "       [0, 0],\n",
       "       [0, 1],\n",
       "       [1, 1],\n",
       "       [0, 0],\n",
       "       [0, 0],\n",
       "       [0, 0],\n",
       "       [0, 0],\n",
       "       [0, 0],\n",
       "       [0, 0],\n",
       "       [1, 1],\n",
       "       [0, 0],\n",
       "       [0, 0],\n",
       "       [0, 0],\n",
       "       [0, 0],\n",
       "       [1, 1],\n",
       "       [0, 0],\n",
       "       [0, 0],\n",
       "       [1, 1],\n",
       "       [0, 0],\n",
       "       [1, 1],\n",
       "       [1, 1],\n",
       "       [0, 0],\n",
       "       [0, 0],\n",
       "       [0, 0],\n",
       "       [1, 1],\n",
       "       [0, 1],\n",
       "       [0, 0],\n",
       "       [0, 0],\n",
       "       [0, 1],\n",
       "       [0, 0],\n",
       "       [0, 0],\n",
       "       [1, 1],\n",
       "       [0, 0],\n",
       "       [0, 1],\n",
       "       [0, 0],\n",
       "       [1, 1],\n",
       "       [0, 0],\n",
       "       [0, 0],\n",
       "       [0, 0],\n",
       "       [0, 0],\n",
       "       [1, 1],\n",
       "       [0, 0],\n",
       "       [0, 0],\n",
       "       [0, 1],\n",
       "       [0, 0],\n",
       "       [0, 0],\n",
       "       [1, 0],\n",
       "       [0, 0],\n",
       "       [1, 1],\n",
       "       [1, 1],\n",
       "       [1, 1],\n",
       "       [1, 0],\n",
       "       [0, 0],\n",
       "       [0, 0],\n",
       "       [1, 1],\n",
       "       [1, 1],\n",
       "       [0, 0],\n",
       "       [1, 1],\n",
       "       [0, 1],\n",
       "       [0, 0],\n",
       "       [0, 0],\n",
       "       [1, 1],\n",
       "       [0, 0],\n",
       "       [0, 0],\n",
       "       [0, 0],\n",
       "       [0, 1],\n",
       "       [0, 0],\n",
       "       [0, 1],\n",
       "       [1, 1],\n",
       "       [1, 1],\n",
       "       [0, 0],\n",
       "       [0, 1],\n",
       "       [0, 0],\n",
       "       [0, 1],\n",
       "       [1, 1],\n",
       "       [1, 1],\n",
       "       [0, 0],\n",
       "       [0, 0],\n",
       "       [0, 0],\n",
       "       [0, 0],\n",
       "       [0, 0],\n",
       "       [0, 0],\n",
       "       [0, 1],\n",
       "       [1, 1],\n",
       "       [1, 1],\n",
       "       [1, 0],\n",
       "       [1, 1],\n",
       "       [0, 0],\n",
       "       [1, 0],\n",
       "       [1, 1]], dtype=int64)"
      ]
     },
     "execution_count": 25,
     "metadata": {},
     "output_type": "execute_result"
    }
   ],
   "source": [
    "y_pred = classifier.predict(x_test)\n",
    "np.concatenate((y_pred.reshape(len(y_pred),1), y_test.reshape(len(y_test),1)),1) #print (prediction, actual)"
   ]
  },
  {
   "cell_type": "markdown",
   "metadata": {},
   "source": [
    "### Check confusion matrix and accuracy score"
   ]
  },
  {
   "cell_type": "code",
   "execution_count": 26,
   "metadata": {},
   "outputs": [
    {
     "name": "stdout",
     "output_type": "stream",
     "text": [
      "[[74  5]\n",
      " [11 30]]\n"
     ]
    },
    {
     "data": {
      "text/plain": [
       "0.8666666666666667"
      ]
     },
     "execution_count": 26,
     "metadata": {},
     "output_type": "execute_result"
    }
   ],
   "source": [
    "from sklearn.metrics import confusion_matrix, accuracy_score\n",
    "cm = confusion_matrix(y_test, y_pred) #confusion matrix(actual, predicted)\n",
    "print(cm)\n",
    "accuracy_score(y_test, y_pred)"
   ]
  },
  {
   "cell_type": "markdown",
   "metadata": {},
   "source": [
    "<b>Note:</b> Here correct predictions from two classes combined is 74+30=104 and incorrect predictions from two classes combined is 5+11=16.<br>\n",
    "    Hence, the accuracy is 104/(104+16=120) = 86%."
   ]
  },
  {
   "cell_type": "markdown",
   "metadata": {},
   "source": [
    "### <center>The End"
   ]
  }
 ],
 "metadata": {
  "kernelspec": {
   "display_name": "Python 3",
   "language": "python",
   "name": "python3"
  },
  "language_info": {
   "codemirror_mode": {
    "name": "ipython",
    "version": 3
   },
   "file_extension": ".py",
   "mimetype": "text/x-python",
   "name": "python",
   "nbconvert_exporter": "python",
   "pygments_lexer": "ipython3",
   "version": "3.8.3"
  }
 },
 "nbformat": 4,
 "nbformat_minor": 4
}
